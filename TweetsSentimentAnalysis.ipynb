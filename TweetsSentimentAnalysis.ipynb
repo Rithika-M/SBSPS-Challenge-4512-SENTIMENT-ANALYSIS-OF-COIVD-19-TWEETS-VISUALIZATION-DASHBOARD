{
  "nbformat": 4,
  "nbformat_minor": 0,
  "metadata": {
    "colab": {
      "name": "TweetsSentimentAnalysis.ipynb",
      "provenance": [],
      "collapsed_sections": []
    },
    "kernelspec": {
      "name": "python3",
      "display_name": "Python 3"
    }
  },
  "cells": [
    {
      "cell_type": "markdown",
      "metadata": {
        "id": "e7mP7kZnGgE_",
        "colab_type": "text"
      },
      "source": [
        "<-- Mount drive to access data in drive -->"
      ]
    },
    {
      "cell_type": "code",
      "metadata": {
        "id": "U1f3GbzXyGcI",
        "colab_type": "code",
        "colab": {}
      },
      "source": [
        "from google.colab import drive\n",
        "drive.mount('/gdrive/')"
      ],
      "execution_count": null,
      "outputs": []
    },
    {
      "cell_type": "markdown",
      "metadata": {
        "id": "7TSOV4nx-M7v",
        "colab_type": "text"
      },
      "source": [
        "<-- Importing the required libraries -->"
      ]
    },
    {
      "cell_type": "code",
      "metadata": {
        "id": "d72U5Cmzyvag",
        "colab_type": "code",
        "colab": {}
      },
      "source": [
        "import os\n",
        "import pandas as pd\n",
        "import re\n",
        "from textblob import TextBlob\n"
      ],
      "execution_count": 12,
      "outputs": []
    },
    {
      "cell_type": "markdown",
      "metadata": {
        "id": "zzffeU8HGoz3",
        "colab_type": "text"
      },
      "source": [
        "<-- Function to clean the tweets -->"
      ]
    },
    {
      "cell_type": "code",
      "metadata": {
        "id": "mw8tTyQalfS5",
        "colab_type": "code",
        "colab": {}
      },
      "source": [
        "def clean_tweet(tweet): \n",
        "        \n",
        "        return ' '.join(re.sub(\"(@[A-Za-z0-9]+)|([^0-9A-Za-z \\t])|(\\w+:\\/\\/\\S+)\", \" \", tweet).split())"
      ],
      "execution_count": 13,
      "outputs": []
    },
    {
      "cell_type": "markdown",
      "metadata": {
        "id": "jdStHYqo-U_a",
        "colab_type": "text"
      },
      "source": [
        "<-- Sentiment analysis using TextBlob library to classify the tweets -->"
      ]
    },
    {
      "cell_type": "code",
      "metadata": {
        "id": "DzQ5CmzUzGRL",
        "colab_type": "code",
        "colab": {}
      },
      "source": [
        "def get_sentiment(tweet):\n",
        "  analysis = TextBlob(tweet)  \n",
        "  if analysis.sentiment.polarity > 0: \n",
        "      return 'positive'\n",
        "  elif analysis.sentiment.polarity == 0: \n",
        "      return 'neutral'\n",
        "  else:\n",
        "      return 'negative'\n"
      ],
      "execution_count": 14,
      "outputs": []
    },
    {
      "cell_type": "markdown",
      "metadata": {
        "id": "oKEatYPgG50U",
        "colab_type": "text"
      },
      "source": [
        "<-- Converting the files into the folder into a list using os library -->"
      ]
    },
    {
      "cell_type": "code",
      "metadata": {
        "id": "Doeq6kYKPe__",
        "colab_type": "code",
        "colab": {}
      },
      "source": [
        "tweets_each_day = os.listdir(\"/gdrive/My Drive/tweets\")"
      ],
      "execution_count": 31,
      "outputs": []
    },
    {
      "cell_type": "code",
      "metadata": {
        "id": "JBssr2-vKMEN",
        "colab_type": "code",
        "colab": {}
      },
      "source": [
        "tweets_each_day"
      ],
      "execution_count": null,
      "outputs": []
    },
    {
      "cell_type": "markdown",
      "metadata": {
        "id": "7CjsYGzYHF_S",
        "colab_type": "text"
      },
      "source": [
        "<-- Function which given with the file name returns the data frame of data in that file -->"
      ]
    },
    {
      "cell_type": "code",
      "metadata": {
        "id": "VIBT8YznACSx",
        "colab_type": "code",
        "colab": {}
      },
      "source": [
        "def get_dataFrame(file):\n",
        "    df = pd.read_csv(file)\n",
        "    df = df[df.lang==\"en\"].reset_index(drop=True)\n",
        "    # break\n",
        "    df = df[\"text\"]\n",
        "    return df\n"
      ],
      "execution_count": 17,
      "outputs": []
    },
    {
      "cell_type": "markdown",
      "metadata": {
        "id": "BG0dtzHFHbrZ",
        "colab_type": "text"
      },
      "source": [
        "<-- Function to caluclate the percentage of analysis done -->"
      ]
    },
    {
      "cell_type": "code",
      "metadata": {
        "id": "GIrGuI3_A-Vh",
        "colab_type": "code",
        "colab": {}
      },
      "source": [
        "def percentage_completed(cnt,size):\n",
        "  print(f'{(cnt/size)*100}% completed.....')"
      ],
      "execution_count": 18,
      "outputs": []
    },
    {
      "cell_type": "markdown",
      "metadata": {
        "id": "JmPNRBHiH7Rk",
        "colab_type": "text"
      },
      "source": [
        "<-- Sentiment analysis on tweets -->\n"
      ]
    },
    {
      "cell_type": "code",
      "metadata": {
        "id": "Q-6CNwOXAs1d",
        "colab_type": "code",
        "colab": {}
      },
      "source": [
        "def perform_analysis(df):\n",
        "    pos_count = 0\n",
        "    neg_count = 0\n",
        "    neut_count = 0\n",
        "    pos = pd.DataFrame(columns=[\"tweets\"])\n",
        "    neg = pd.DataFrame(columns=[\"tweets\"])\n",
        "    neut = pd.DataFrame(columns=[\"tweets\"])\n",
        "    size = len(df)\n",
        "    for tweet in df:\n",
        "      sentiment = get_sentiment(tweet)\n",
        "      if sentiment==\"positive\":\n",
        "        pos.loc[pos_count] = tweet\n",
        "        pos_count+=1\n",
        "      elif sentiment==\"neutral\":\n",
        "        neut.loc[neut_count] = tweet\n",
        "        neut_count+=1\n",
        "      else:\n",
        "        neg.loc[neg_count] = tweet\n",
        "        neg_count+=1\n",
        "      cnt = pos_count+neg_count+neut_count\n",
        "      \n",
        "      if(cnt%10000==0):print(percentage_completed(cnt,size))\n",
        "    return pos,neg,neut\n"
      ],
      "execution_count": 29,
      "outputs": []
    },
    {
      "cell_type": "markdown",
      "metadata": {
        "id": "wDsCjTzPHqAg",
        "colab_type": "text"
      },
      "source": [
        "<-- Function to save the tweets in the directory whose path is passed as argument -->"
      ]
    },
    {
      "cell_type": "code",
      "metadata": {
        "id": "1CPqtSdjBkbS",
        "colab_type": "code",
        "colab": {}
      },
      "source": [
        "def save_tweets(pos,neg,neut,date,directory):\n",
        "    os.chdir(directory)\n",
        "    print(\"\\n\\n\\n\\n\\n\\n\\n\\n\\n\\n Saving files \\n\\n\\n\\n\\n\\n\\n\\n\\n\\n\")\n",
        "    pos.to_json(f'positive_tweets_at_{date}.json')\n",
        "    neg.to_json(f'negative_tweets_at_{date}.json')\n",
        "    neut.to_json(f'neutral_tweets_at_{date}.json')\n",
        "    print(f\"File's saved for {date}\\n\\n\\n\\n\\n\")"
      ],
      "execution_count": 30,
      "outputs": []
    },
    {
      "cell_type": "markdown",
      "metadata": {
        "id": "6ReoXrdzH4Sz",
        "colab_type": "text"
      },
      "source": [
        "<-- Program to perform sentiment analysis -->"
      ]
    },
    {
      "cell_type": "code",
      "metadata": {
        "id": "FqlrGK551Eik",
        "colab_type": "code",
        "colab": {}
      },
      "source": [
        "\n",
        "for file in tweets_each_day:\n",
        "  if file!=\".ipynb_checkpoints\":\n",
        "\n",
        "    os.chdir(\"/gdrive/My Drive/tweets\")\n",
        "    \n",
        "    date = file.split()[0]\n",
        "\n",
        "    df = get_dataFrame(file)\n",
        "\n",
        "    positive_tweets,negative_tweets,neutral_tweets = perform_analysis(df)\n",
        "\n",
        "    directory = \"/gdrive/My Drive/segregated_tweets\"\n",
        "\n",
        "    save_tweets(positive_tweets,negative_tweets,neutral_tweets,date,directory)\n",
        "\n",
        "print(\"<--------Analysis and segregatioin done---------->\")\n",
        "    \n",
        " \n",
        "    \n",
        "\n"
      ],
      "execution_count": null,
      "outputs": []
    }
  ]
}